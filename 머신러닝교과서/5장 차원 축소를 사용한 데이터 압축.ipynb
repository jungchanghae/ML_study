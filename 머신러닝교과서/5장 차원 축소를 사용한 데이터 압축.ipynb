{
 "cells": [
  {
   "cell_type": "code",
   "execution_count": 1,
   "id": "2acd16ff",
   "metadata": {},
   "outputs": [],
   "source": [
    "from IPython.display import Image"
   ]
  },
  {
   "cell_type": "markdown",
   "id": "0db62aa8",
   "metadata": {},
   "source": [
    "## 5장 차원 축소를 사용한 데이터 압축\n",
    "\n",
    "- 특성 추출 : 차원 축소를 위한 특성 선택의 방법\n",
    "- 주성분 분석을 사용한 비지도 데이터 압축하기\n",
    "- 지도방식의 차원 축소 기법인 선형 판별 분석을 이용하여 클래스 구별 능력 최대화하기\n",
    "- 커널 PCA를 사용한 비선형 차원 축소하기\n"
   ]
  },
  {
   "cell_type": "markdown",
   "id": "c1106bb3",
   "metadata": {},
   "source": [
    "### 5.1 주성분 분석을 통한 비지도 차원 축소\n",
    "\n",
    "- 특성 선택 : 원본 특성을 유지 (순차 후진 선택)\n",
    "- 특성 추출 : 새로운 특성 공간으로 데이터를 변환하거나 투영\n",
    "  \n",
    "특성 추출로 저장 공간을 절약하거나 학습 알고리즘의 계산 효율성을 향상할 뿐만 아니라 차원의 저주 문제를 감소시켜 예측 성능을 향상하기도 합니다.  "
   ]
  },
  {
   "cell_type": "markdown",
   "id": "14204989",
   "metadata": {},
   "source": [
    "#### 5.1.1 주성분 분석의 주요 단계\n",
    "\n",
    "- 비지도 선형 변환 기법(PCA) : 특성 추출과 차원 축소 용도로 많은 분야에서 널리 사용한다.\n",
    "- PCA를 많이 사용하는 애플리케이션에는 탐색적 데이터 분석과 주식 거래 시장의 잡음 제거, 생물정보학 분야에서 게놈 데이터나 유전자 발현 분석이 있다.\n",
    "- PCA는 특성 사이의 상관관계를 기반으로 하여 데이터에 있는 어떤 패턴을 찾을 수 있습니다.\n",
    "- 고차원 데이터에서 분산이 가장 큰 방향을 찾고 좀 더 작거나 같은 수의 차원을 갖는 새로운 부분 공간으로 이를 투영한다.\n",
    "- 새새로운 부분 공간의 직교 좌표는 주어진 조건하에서 분산이 최대인 방향으로 해석할 수 있다."
   ]
  },
  {
   "cell_type": "code",
   "execution_count": 2,
   "id": "9ca80387",
   "metadata": {},
   "outputs": [
    {
     "data": {
      "text/html": [
       "<img src=\"https://git.io/JtsvW\" width=\"400\"/>"
      ],
      "text/plain": [
       "<IPython.core.display.Image object>"
      ]
     },
     "execution_count": 2,
     "metadata": {},
     "output_type": "execute_result"
    }
   ],
   "source": [
    "Image(url='https://git.io/JtsvW', width=400)"
   ]
  },
  {
   "cell_type": "markdown",
   "id": "137bdcd6",
   "metadata": {},
   "source": [
    "x1과 x2는 원본 특성 축이고 PC1과 PC2는 주성분이다.  \n",
    "PCA를 사용하여 차원을 축소하기 위해 d$*$k차원의 변환 행렬 W를 만든다.  \n",
    "이 행렬로 훈련 샘플의 특성 벡터 x를 새로운 k차원의 특성 부분 공간으로 매핑한다.  \n",
    "이 부분 공간은 원본 d차원의 특성 공간보다 작은 차원을 가진다.  \n",
    "$x = $[$x_1,x_2, \\dots ,x_d$]$, x \\in R^d$  \n",
    "$xW = z,    W \\in R^{d*k}$  \n",
    "즉, z는 k차원의 부분 공간으로 변환된다.  \n",
    "모든 주성분은 다른 주성분들과 상관관계가 없다는 제약하에 가장 큰 분산을 가진다.  \n",
    "입력 특성에 상관관계가 있더라도 만들어진 주성분은 서로 직각을 이룰 것이다.  \n",
    "PCA 방향은 데이터 스케일에 매우 민감하다.  \n",
    "특성의 스케일이 다르고 모든 특성의 중요도를 동일하게 취급하려면 PCA를 적용하기 전에 특성을 표준화 전처리 해야한다.  \n",
    "\n",
    "##### PCA 알고리즘 사용 방법 단계\n",
    "- d차원 데이터셋을 표준화 전처리한다.\n",
    "- 공분산 행렬을 만든다.\n",
    "- 공분산 행렬을 고유 벡터와 고윳값으로 분해한다.\n",
    "- 고윳값을 내림차순으로 정렬하고 그에 해당하는 고유 벡터의 순위를 매깁니다.\n",
    "- 교윳값이 가장 큰 k개의 고유 벡터를 선택합니다. 여기서 k는 새로운 특성 부분 공간의 차원이다.\n",
    "- 최상위 k개의 고유 벡터로 투영 행렬 W를 만든다.\n",
    "- 투영 행렬 W를 사용해서 d차원 입력 데이터셋 X를 새로운 k 차원의 특성 부분 공간으로 변환한다."
   ]
  },
  {
   "cell_type": "markdown",
   "id": "9f4bd38c",
   "metadata": {},
   "source": [
    "#### 5.1.2 주성분 추출 단계  \n",
    "\n",
    "- PCA 처음 네 단계를 처리한다.  \n",
    "1. 데이터를 표준화 전처리합니다.\n",
    "2. 공분산 행렬을 구성합니다.\n",
    "3. 공분산 행렬의 고윳값과 고유 벡터를 구합니다.\n",
    "4. 고윳값을 내림차순으로 정렬하여 고유 벡터의 순위를 매깁니다."
   ]
  },
  {
   "cell_type": "code",
   "execution_count": 3,
   "id": "4e52b851",
   "metadata": {},
   "outputs": [
    {
     "data": {
      "text/html": [
       "<div>\n",
       "<style scoped>\n",
       "    .dataframe tbody tr th:only-of-type {\n",
       "        vertical-align: middle;\n",
       "    }\n",
       "\n",
       "    .dataframe tbody tr th {\n",
       "        vertical-align: top;\n",
       "    }\n",
       "\n",
       "    .dataframe thead th {\n",
       "        text-align: right;\n",
       "    }\n",
       "</style>\n",
       "<table border=\"1\" class=\"dataframe\">\n",
       "  <thead>\n",
       "    <tr style=\"text-align: right;\">\n",
       "      <th></th>\n",
       "      <th>Class label</th>\n",
       "      <th>Alcohol</th>\n",
       "      <th>Malic acid</th>\n",
       "      <th>Ash</th>\n",
       "      <th>Alcalinity of ash</th>\n",
       "      <th>Magnesium</th>\n",
       "      <th>Total phenols</th>\n",
       "      <th>Flavanoids</th>\n",
       "      <th>Nonflavanoid phenols</th>\n",
       "      <th>Proanthocyanins</th>\n",
       "      <th>Color intensity</th>\n",
       "      <th>Hue</th>\n",
       "      <th>OD280/OD315 of diluted wines</th>\n",
       "      <th>Proline</th>\n",
       "    </tr>\n",
       "  </thead>\n",
       "  <tbody>\n",
       "    <tr>\n",
       "      <th>0</th>\n",
       "      <td>1</td>\n",
       "      <td>14.23</td>\n",
       "      <td>1.71</td>\n",
       "      <td>2.43</td>\n",
       "      <td>15.6</td>\n",
       "      <td>127</td>\n",
       "      <td>2.80</td>\n",
       "      <td>3.06</td>\n",
       "      <td>0.28</td>\n",
       "      <td>2.29</td>\n",
       "      <td>5.64</td>\n",
       "      <td>1.04</td>\n",
       "      <td>3.92</td>\n",
       "      <td>1065</td>\n",
       "    </tr>\n",
       "    <tr>\n",
       "      <th>1</th>\n",
       "      <td>1</td>\n",
       "      <td>13.20</td>\n",
       "      <td>1.78</td>\n",
       "      <td>2.14</td>\n",
       "      <td>11.2</td>\n",
       "      <td>100</td>\n",
       "      <td>2.65</td>\n",
       "      <td>2.76</td>\n",
       "      <td>0.26</td>\n",
       "      <td>1.28</td>\n",
       "      <td>4.38</td>\n",
       "      <td>1.05</td>\n",
       "      <td>3.40</td>\n",
       "      <td>1050</td>\n",
       "    </tr>\n",
       "    <tr>\n",
       "      <th>2</th>\n",
       "      <td>1</td>\n",
       "      <td>13.16</td>\n",
       "      <td>2.36</td>\n",
       "      <td>2.67</td>\n",
       "      <td>18.6</td>\n",
       "      <td>101</td>\n",
       "      <td>2.80</td>\n",
       "      <td>3.24</td>\n",
       "      <td>0.30</td>\n",
       "      <td>2.81</td>\n",
       "      <td>5.68</td>\n",
       "      <td>1.03</td>\n",
       "      <td>3.17</td>\n",
       "      <td>1185</td>\n",
       "    </tr>\n",
       "    <tr>\n",
       "      <th>3</th>\n",
       "      <td>1</td>\n",
       "      <td>14.37</td>\n",
       "      <td>1.95</td>\n",
       "      <td>2.50</td>\n",
       "      <td>16.8</td>\n",
       "      <td>113</td>\n",
       "      <td>3.85</td>\n",
       "      <td>3.49</td>\n",
       "      <td>0.24</td>\n",
       "      <td>2.18</td>\n",
       "      <td>7.80</td>\n",
       "      <td>0.86</td>\n",
       "      <td>3.45</td>\n",
       "      <td>1480</td>\n",
       "    </tr>\n",
       "    <tr>\n",
       "      <th>4</th>\n",
       "      <td>1</td>\n",
       "      <td>13.24</td>\n",
       "      <td>2.59</td>\n",
       "      <td>2.87</td>\n",
       "      <td>21.0</td>\n",
       "      <td>118</td>\n",
       "      <td>2.80</td>\n",
       "      <td>2.69</td>\n",
       "      <td>0.39</td>\n",
       "      <td>1.82</td>\n",
       "      <td>4.32</td>\n",
       "      <td>1.04</td>\n",
       "      <td>2.93</td>\n",
       "      <td>735</td>\n",
       "    </tr>\n",
       "  </tbody>\n",
       "</table>\n",
       "</div>"
      ],
      "text/plain": [
       "   Class label  Alcohol  Malic acid   Ash  Alcalinity of ash  Magnesium  \\\n",
       "0            1    14.23        1.71  2.43               15.6        127   \n",
       "1            1    13.20        1.78  2.14               11.2        100   \n",
       "2            1    13.16        2.36  2.67               18.6        101   \n",
       "3            1    14.37        1.95  2.50               16.8        113   \n",
       "4            1    13.24        2.59  2.87               21.0        118   \n",
       "\n",
       "   Total phenols  Flavanoids  Nonflavanoid phenols  Proanthocyanins  \\\n",
       "0           2.80        3.06                  0.28             2.29   \n",
       "1           2.65        2.76                  0.26             1.28   \n",
       "2           2.80        3.24                  0.30             2.81   \n",
       "3           3.85        3.49                  0.24             2.18   \n",
       "4           2.80        2.69                  0.39             1.82   \n",
       "\n",
       "   Color intensity   Hue  OD280/OD315 of diluted wines  Proline  \n",
       "0             5.64  1.04                          3.92     1065  \n",
       "1             4.38  1.05                          3.40     1050  \n",
       "2             5.68  1.03                          3.17     1185  \n",
       "3             7.80  0.86                          3.45     1480  \n",
       "4             4.32  1.04                          2.93      735  "
      ]
     },
     "execution_count": 3,
     "metadata": {},
     "output_type": "execute_result"
    }
   ],
   "source": [
    "import pandas as pd\n",
    "df_wine = pd.read_csv('https://archive.ics.uci.edu/ml/'\n",
    "                      'machine-learning-databases/wine/wine.data',\n",
    "                      header=None)\n",
    "\n",
    "df_wine.columns = ['Class label', 'Alcohol', 'Malic acid', 'Ash',\n",
    "                   'Alcalinity of ash', 'Magnesium', 'Total phenols',\n",
    "                   'Flavanoids', 'Nonflavanoid phenols', 'Proanthocyanins',\n",
    "                   'Color intensity', 'Hue',\n",
    "                   'OD280/OD315 of diluted wines', 'Proline']\n",
    "\n",
    "df_wine.head()"
   ]
  },
  {
   "cell_type": "markdown",
   "id": "39dc18ce",
   "metadata": {},
   "source": [
    "wine 데이터셋을 7:3 비율로 훈련 데이터와 테스트 데이터셋으로 나누고 표준화를 적용하여 단위 분산을 갖도록 한다."
   ]
  },
  {
   "cell_type": "code",
   "execution_count": 4,
   "id": "85b4cba0",
   "metadata": {},
   "outputs": [],
   "source": [
    "from sklearn.model_selection import train_test_split\n",
    "\n",
    "X, y = df_wine.iloc[:, 1:].values, df_wine.iloc[:, 0].values\n",
    "\n",
    "X_train, X_test, y_train, y_test = \\\n",
    "    train_test_split(X, y, test_size=0.3, \n",
    "                     stratify=y,\n",
    "                     random_state=0)\n",
    "\n",
    "# 표준화\n",
    "from sklearn.preprocessing import StandardScaler\n",
    "\n",
    "sc = StandardScaler()\n",
    "X_train_std = sc.fit_transform(X_train)\n",
    "X_test_std = sc.transform(X_test)"
   ]
  },
  {
   "cell_type": "markdown",
   "id": "039aa6f2",
   "metadata": {},
   "source": [
    "- $x_j와 x_k$사이의 공분산  \n",
    " $\\sigma_{jk} = $ ${1} \\over {n-1}$$ \\sum_{i=1}^n (x_j^{(i)}-\\mu_j)(x_k^{(i)}-\\mu_k)$  \n",
    "$\\mu$는 샘플의 평균이고, 데이터셋을 표준화 전처리했기 때문에 0이다.  \n",
    "- 고유 벡터와 고윳값 쌍을 구하기  \n",
    "  $\\sum v = \\lambda v$  \n",
    "  이때 $\\lambda$는 스케일을 담당하는 고윳값이다."
   ]
  },
  {
   "cell_type": "code",
   "execution_count": 5,
   "id": "efacbfdd",
   "metadata": {},
   "outputs": [
    {
     "name": "stdout",
     "output_type": "stream",
     "text": [
      "\n",
      "고윳값 \n",
      "[4.84274532 2.41602459 1.54845825 0.96120438 0.84166161 0.6620634\n",
      " 0.51828472 0.34650377 0.3131368  0.10754642 0.21357215 0.15362835\n",
      " 0.1808613 ]\n"
     ]
    }
   ],
   "source": [
    "import numpy as np\n",
    "cov_mat = np.cov(X_train_std.T)\n",
    "eigen_vals, eigen_vecs = np.linalg.eig(cov_mat)\n",
    "\n",
    "print('\\n고윳값 \\n%s' % eigen_vals)"
   ]
  },
  {
   "cell_type": "markdown",
   "id": "ca54db8a",
   "metadata": {},
   "source": [
    "#### 5.1.3 총 분산과 설명된 분산\n",
    "  \n",
    "데이터셋 차원을 새로운 특성 부분 공간으로 압축하여 줄여야 하기에 가장 많은 정보를 가진 고유 벡터 일부만 선택한다.  \n",
    "고윳값은 교유 벡터의 크기를 결정하므로 고윳값을 내림차순으로 정렬한다.  \n",
    "고윳값 순서에 따라 최상위 k개의 고유 벡터를 선택한다.  \n",
    "가장 정보가 많은 k개의 고유 벡터를 선택하기 전에 고윳값의 설명된 분산비율을 그려본다.  \n",
    "- 설명된 분산 비율 : 전체 고윳값의 합에서 고윳값 $\\lambda_j$의 비율\n"
   ]
  },
  {
   "cell_type": "code",
   "execution_count": 6,
   "id": "349a6e77",
   "metadata": {},
   "outputs": [],
   "source": [
    "tot = sum(eigen_vals)\n",
    "var_exp = [(i / tot) for i in sorted(eigen_vals, reverse=True)]\n",
    "cum_var_exp = np.cumsum(var_exp)"
   ]
  },
  {
   "cell_type": "code",
   "execution_count": 7,
   "id": "f5436628",
   "metadata": {},
   "outputs": [
    {
     "data": {
      "image/png": "[encoded data removed]",
      "text/plain": [
       "<Figure size 432x288 with 1 Axes>"
      ]
     },
     "metadata": {
      "needs_background": "light"
     },
     "output_type": "display_data"
    }
   ],
   "source": [
    "import matplotlib.pyplot as plt\n",
    "\n",
    "\n",
    "plt.bar(range(1, 14), var_exp, alpha=0.5, align='center',\n",
    "        label='Individual explained variance')\n",
    "plt.step(range(1, 14), cum_var_exp, where='mid',\n",
    "         label='Cumulative explained variance')\n",
    "plt.ylabel('Explained variance ratio')\n",
    "plt.xlabel('Principal component index')\n",
    "plt.legend(loc='best')\n",
    "plt.tight_layout()\n",
    "# plt.savefig('images/05_02.png', dpi=300)\n",
    "plt.show()"
   ]
  },
  {
   "cell_type": "markdown",
   "id": "ea48d1c6",
   "metadata": {},
   "source": [
    "#### 5.1.4 특성 변환\n",
    "공분산 행렬을 고유 베겉와 고윳값 쌍으로 성공적으로 분해한 후 Wine 데이터셋을 새로운 주성분 축으로 변환하는 나머지 세 단계를 진행한다.\n",
    "1. 고윳값이 가장 큰 k개의 고유 벡터를 선택한다. 여기서 k는 새로운 특성 부분 공간의 차원이다.\n",
    "2. 최상위 k개의 고유 벡터로 투영 행렬 W를 만든다.\n",
    "3. 투영 행렬 W를 사용해서 d차원 입력 데이터셋 X를 새로운 k 차원의 특성 부분 공간으로 변환한다.  \n",
    "  \n",
    "고윳값의 내림차순으로 고유 벡터를 정렬하고, 선택된 고유 벡터로 투영 행렬을 구성한다.  \n",
    "이 투영 행렬을 사용하여 저차원 부분 공간으로 변환한다.  "
   ]
  },
  {
   "cell_type": "code",
   "execution_count": 8,
   "id": "2eafe597",
   "metadata": {},
   "outputs": [],
   "source": [
    "# (고윳값, 고유벡터) 튜플의 리스트를 만듭니다\n",
    "eigen_pairs = [(np.abs(eigen_vals[i]), eigen_vecs[:, i])\n",
    "               for i in range(len(eigen_vals))]\n",
    "\n",
    "# 높은 값에서 낮은 값으로 (고윳값, 고유벡터) 튜플을 정렬합니다\n",
    "eigen_pairs.sort(key=lambda k: k[0], reverse=True)"
   ]
  },
  {
   "cell_type": "markdown",
   "id": "e16a46fe",
   "metadata": {},
   "source": [
    "다음 가장 큰 두 개의 고윳값에 해당하는 고유 벡터를 선택한다. 이 데이터셋에 있는 분산읜 60%를 잡아낼 수 있다.  \n",
    "2차원 산점도를 그리기 위해 두 개의 고유 벡터만 선택했지만, 실전에서는 계산 효율성과 모델 성능 사이의 절충점을 찾아 주성분 개수를 결정해야한다."
   ]
  },
  {
   "cell_type": "code",
   "execution_count": 9,
   "id": "a68c4214",
   "metadata": {},
   "outputs": [
    {
     "name": "stdout",
     "output_type": "stream",
     "text": [
      "투영 행렬 W:\n",
      " [[-0.13724218  0.50303478]\n",
      " [ 0.24724326  0.16487119]\n",
      " [-0.02545159  0.24456476]\n",
      " [ 0.20694508 -0.11352904]\n",
      " [-0.15436582  0.28974518]\n",
      " [-0.39376952  0.05080104]\n",
      " [-0.41735106 -0.02287338]\n",
      " [ 0.30572896  0.09048885]\n",
      " [-0.30668347  0.00835233]\n",
      " [ 0.07554066  0.54977581]\n",
      " [-0.32613263 -0.20716433]\n",
      " [-0.36861022 -0.24902536]\n",
      " [-0.29669651  0.38022942]]\n"
     ]
    }
   ],
   "source": [
    "w = np.hstack((eigen_pairs[0][1][:, np.newaxis],\n",
    "               eigen_pairs[1][1][:, np.newaxis]))\n",
    "print('투영 행렬 W:\\n', w)"
   ]
  },
  {
   "cell_type": "code",
   "execution_count": 10,
   "id": "9ea8e317",
   "metadata": {},
   "outputs": [
    {
     "data": {
      "text/plain": [
       "array([2.38299011, 0.45458499])"
      ]
     },
     "execution_count": 10,
     "metadata": {},
     "output_type": "execute_result"
    }
   ],
   "source": [
    "X_train_std[0].dot(w)"
   ]
  },
  {
   "cell_type": "code",
   "execution_count": 11,
   "id": "5fa4c38d",
   "metadata": {},
   "outputs": [
    {
     "data": {
      "image/png": "[encoded data removed]",
      "text/plain": [
       "<Figure size 432x288 with 1 Axes>"
      ]
     },
     "metadata": {
      "needs_background": "light"
     },
     "output_type": "display_data"
    }
   ],
   "source": [
    "X_train_pca = X_train_std.dot(w)\n",
    "colors = ['r', 'b', 'g']\n",
    "markers = ['s', 'x', 'o']\n",
    "\n",
    "for l, c, m in zip(np.unique(y_train), colors, markers):\n",
    "    plt.scatter(X_train_pca[y_train == l, 0], \n",
    "                X_train_pca[y_train == l, 1], \n",
    "                c=c, label=l, marker=m)\n",
    "\n",
    "plt.xlabel('PC 1')\n",
    "plt.ylabel('PC 2')\n",
    "plt.legend(loc='lower left')\n",
    "plt.tight_layout()\n",
    "# plt.savefig('images/05_03.png', dpi=300)\n",
    "plt.show()"
   ]
  },
  {
   "cell_type": "markdown",
   "id": "70671509",
   "metadata": {},
   "source": [
    "y축 (두 번째 주성분)보다 x축(첫 번째 주성분)을 따라 더 넓게 퍼져있다.  \n",
    "선형 분류기가 클래스들을 잘 분리할 수 있을 것 같다고 직관적으로 확인할 수 있다."
   ]
  },
  {
   "cell_type": "markdown",
   "id": "23bd209e",
   "metadata": {},
   "source": [
    "#### 5.1.5 사이킷런의 주성분 분석\n",
    "  \n",
    "  \n",
    "PCA 클래스는 사이킷런의 변환기 클래스 중 하나이다.  \n",
    "훈련 데이터를 사용하여 모델을 훈련하고 같은 모델 파라미터를 사용하여 훈련 데이터셋과 테스트 데이터셋을 변환한다.  \n",
    "사이킷런의 PCA 클래스를 Wine 데이터셋의 훈련 데이터셋에 적용하고 로지스틱 회귀로 변환된 샘플 데이터를 분류해보자.  "
   ]
  },
  {
   "cell_type": "code",
   "execution_count": 12,
   "id": "fb04a18d",
   "metadata": {},
   "outputs": [
    {
     "data": {
      "text/plain": [
       "array([0.36951469, 0.18434927, 0.11815159, 0.07334252, 0.06422108,\n",
       "       0.05051724, 0.03954654, 0.02643918, 0.02389319, 0.01629614,\n",
       "       0.01380021, 0.01172226, 0.00820609])"
      ]
     },
     "execution_count": 12,
     "metadata": {},
     "output_type": "execute_result"
    }
   ],
   "source": [
    "from sklearn.decomposition import PCA\n",
    "\n",
    "pca = PCA()\n",
    "X_train_pca = pca.fit_transform(X_train_std)\n",
    "pca.explained_variance_ratio_"
   ]
  },
  {
   "cell_type": "code",
   "execution_count": 13,
   "id": "522ea54d",
   "metadata": {},
   "outputs": [
    {
     "data": {
      "image/png": "[encoded data removed]",
      "text/plain": [
       "<Figure size 432x288 with 1 Axes>"
      ]
     },
     "metadata": {
      "needs_background": "light"
     },
     "output_type": "display_data"
    }
   ],
   "source": [
    "plt.bar(range(1, 14), pca.explained_variance_ratio_, alpha=0.5, align='center')\n",
    "plt.step(range(1, 14), np.cumsum(pca.explained_variance_ratio_), where='mid')\n",
    "plt.ylabel('Explained variance ratio')\n",
    "plt.xlabel('Principal components')\n",
    "\n",
    "plt.show()"
   ]
  },
  {
   "cell_type": "code",
   "execution_count": 14,
   "id": "6e86ac21",
   "metadata": {},
   "outputs": [],
   "source": [
    "pca = PCA(n_components=2)\n",
    "X_train_pca = pca.fit_transform(X_train_std)\n",
    "X_test_pca = pca.transform(X_test_std)"
   ]
  },
  {
   "cell_type": "code",
   "execution_count": 15,
   "id": "0be91078",
   "metadata": {},
   "outputs": [
    {
     "data": {
      "image/png": "[encoded data removed]",
      "text/plain": [
       "<Figure size 432x288 with 1 Axes>"
      ]
     },
     "metadata": {
      "needs_background": "light"
     },
     "output_type": "display_data"
    }
   ],
   "source": [
    "plt.scatter(X_train_pca[:, 0], X_train_pca[:, 1])\n",
    "plt.xlabel('PC 1')\n",
    "plt.ylabel('PC 2')\n",
    "plt.show()"
   ]
  },
  {
   "cell_type": "code",
   "execution_count": 16,
   "id": "26eb3a2f",
   "metadata": {},
   "outputs": [],
   "source": [
    "from matplotlib.colors import ListedColormap\n",
    "\n",
    "def plot_decision_regions(X, y, classifier, resolution=0.02):\n",
    "\n",
    "    # 마커와 컬러맵을 준비합니다\n",
    "    markers = ('s', 'x', 'o', '^', 'v')\n",
    "    colors = ('red', 'blue', 'lightgreen', 'gray', 'cyan')\n",
    "    cmap = ListedColormap(colors[:len(np.unique(y))])\n",
    "\n",
    "    # 결정 경계를 그립니다\n",
    "    x1_min, x1_max = X[:, 0].min() - 1, X[:, 0].max() + 1\n",
    "    x2_min, x2_max = X[:, 1].min() - 1, X[:, 1].max() + 1\n",
    "    xx1, xx2 = np.meshgrid(np.arange(x1_min, x1_max, resolution),\n",
    "                           np.arange(x2_min, x2_max, resolution))\n",
    "    Z = classifier.predict(np.array([xx1.ravel(), xx2.ravel()]).T)\n",
    "    Z = Z.reshape(xx1.shape)\n",
    "    plt.contourf(xx1, xx2, Z, alpha=0.4, cmap=cmap)\n",
    "    plt.xlim(xx1.min(), xx1.max())\n",
    "    plt.ylim(xx2.min(), xx2.max())\n",
    "\n",
    "    # 클래스별로 샘플을 그립니다\n",
    "    for idx, cl in enumerate(np.unique(y)):\n",
    "        plt.scatter(x=X[y == cl, 0], \n",
    "                    y=X[y == cl, 1],\n",
    "                    alpha=0.6, \n",
    "                    color=cmap(idx),\n",
    "                    edgecolor='black',\n",
    "                    marker=markers[idx], \n",
    "                    label=cl)"
   ]
  },
  {
   "cell_type": "code",
   "execution_count": 17,
   "id": "57da3657",
   "metadata": {},
   "outputs": [],
   "source": [
    "from sklearn.linear_model import LogisticRegression\n",
    "\n",
    "pca = PCA(n_components=2)\n",
    "X_train_pca = pca.fit_transform(X_train_std)\n",
    "X_test_pca = pca.transform(X_test_std)\n",
    "\n",
    "lr = LogisticRegression(random_state=1)\n",
    "lr = lr.fit(X_train_pca, y_train)"
   ]
  },
  {
   "cell_type": "code",
   "execution_count": 18,
   "id": "00302a34",
   "metadata": {},
   "outputs": [
    {
     "name": "stderr",
     "output_type": "stream",
     "text": [
      "/var/folders/52/6m61ph710vs5094glq5tbhwh0000gn/T/ipykernel_16037/1829650647.py:23: UserWarning: You passed a edgecolor/edgecolors ('black') for an unfilled marker ('x').  Matplotlib is ignoring the edgecolor in favor of the facecolor.  This behavior may change in the future.\n",
      "  plt.scatter(x=X[y == cl, 0],\n"
     ]
    },
    {
     "data": {
      "image/png": "[encoded data removed]",
      "text/plain": [
       "<Figure size 432x288 with 1 Axes>"
      ]
     },
     "metadata": {
      "needs_background": "light"
     },
     "output_type": "display_data"
    }
   ],
   "source": [
    "# 샘플데이터 결과\n",
    "plot_decision_regions(X_train_pca, y_train, classifier=lr)\n",
    "plt.xlabel('PC 1')\n",
    "plt.ylabel('PC 2')\n",
    "plt.legend(loc='lower left')\n",
    "plt.tight_layout()\n",
    "# plt.savefig('images/05_04.png', dpi=300)\n",
    "plt.show()"
   ]
  },
  {
   "cell_type": "code",
   "execution_count": 19,
   "id": "5928afc7",
   "metadata": {},
   "outputs": [
    {
     "name": "stderr",
     "output_type": "stream",
     "text": [
      "/var/folders/52/6m61ph710vs5094glq5tbhwh0000gn/T/ipykernel_16037/1829650647.py:23: UserWarning: You passed a edgecolor/edgecolors ('black') for an unfilled marker ('x').  Matplotlib is ignoring the edgecolor in favor of the facecolor.  This behavior may change in the future.\n",
      "  plt.scatter(x=X[y == cl, 0],\n"
     ]
    },
    {
     "data": {
      "image/png": "[encoded data removed]",
      "text/plain": [
       "<Figure size 432x288 with 1 Axes>"
      ]
     },
     "metadata": {
      "needs_background": "light"
     },
     "output_type": "display_data"
    }
   ],
   "source": [
    "# 테스트 데이터 결과\n",
    "plot_decision_regions(X_test_pca, y_test, classifier=lr)\n",
    "plt.xlabel('PC 1')\n",
    "plt.ylabel('PC 2')\n",
    "plt.legend(loc='lower left')\n",
    "plt.tight_layout()\n",
    "# plt.savefig('images/05_05.png', dpi=300)\n",
    "plt.show()"
   ]
  },
  {
   "cell_type": "code",
   "execution_count": 20,
   "id": "db5369e4",
   "metadata": {},
   "outputs": [
    {
     "data": {
      "text/plain": [
       "array([0.36951469, 0.18434927, 0.11815159, 0.07334252, 0.06422108,\n",
       "       0.05051724, 0.03954654, 0.02643918, 0.02389319, 0.01629614,\n",
       "       0.01380021, 0.01172226, 0.00820609])"
      ]
     },
     "execution_count": 20,
     "metadata": {},
     "output_type": "execute_result"
    }
   ],
   "source": [
    "# 전체 주성분의 설명된 분산 비율\n",
    "\n",
    "# n_components=None 차원축소, 분산의 크기 순서대로 주성분이 모두 반환\n",
    "pca = PCA(n_components=None)\n",
    "X_train_pca = pca.fit_transform(X_train_std)\n",
    "pca.explained_variance_ratio_"
   ]
  },
  {
   "cell_type": "code",
   "execution_count": 21,
   "id": "83c32f43",
   "metadata": {},
   "outputs": [
    {
     "name": "stdout",
     "output_type": "stream",
     "text": [
      "주성분 개수: 10\n",
      "설명된 분산 비율: 0.9662714406558742\n"
     ]
    }
   ],
   "source": [
    "# (0, 1) 사이 실수를 입력하면 설명된 분산의 비율을 나타낸다. 이 비율을 달성하기 위해 필요한 주성분 개수를 선택한다.\n",
    "pca = PCA(n_components=0.95)\n",
    "pca.fit(X_train_std)\n",
    "print('주성분 개수:', pca.n_components_)\n",
    "print('설명된 분산 비율:', np.sum(pca.explained_variance_ratio_))"
   ]
  },
  {
   "cell_type": "code",
   "execution_count": 22,
   "id": "3cf5298a",
   "metadata": {
    "scrolled": true
   },
   "outputs": [
    {
     "name": "stdout",
     "output_type": "stream",
     "text": [
      "주성분 개수: 9\n",
      "설명된 분산 비율: 0.9499753029186232\n"
     ]
    }
   ],
   "source": [
    "# 'mle'로 지정하면 토마스 민카가 제안한 차원 선택 방식을 사용한다.\n",
    "pca = PCA(n_components='mle')\n",
    "pca.fit(X_train_std)\n",
    "print('주성분 개수:', pca.n_components_)\n",
    "print('설명된 분산 비율:', np.sum(pca.explained_variance_ratio_))"
   ]
  },
  {
   "cell_type": "markdown",
   "id": "2c60938f",
   "metadata": {},
   "source": [
    "PCA의 가장 큰 제약 사항 중 하나는 배치로만 실행되기 때문에 대용량 데이터셋을 처리하려면 많은 메모리가 필요하다.  \n",
    "IncrementalPCA를 사용하면 데이터셋의 일부를 사용하여 반복적으로 훈련할 수 있다.  \n",
    "batch size의 기본값은 특성 개수의 5배로 설정되어있다."
   ]
  },
  {
   "cell_type": "code",
   "execution_count": 24,
   "id": "fbd0b403",
   "metadata": {},
   "outputs": [
    {
     "name": "stdout",
     "output_type": "stream",
     "text": [
      "주성분 개수: 9\n",
      "설명된 분산 비율: 0.9478392700446663\n"
     ]
    }
   ],
   "source": [
    "from sklearn.decomposition import IncrementalPCA\n",
    "\n",
    "ipca = IncrementalPCA(n_components=9)\n",
    "for batch in range(len(X_train_std)//25+1):\n",
    "    X_batch = X_train_std[batch*25:(batch+1)*25]\n",
    "    ipca.partial_fit(X_batch)\n",
    "\n",
    "print('주성분 개수:', ipca.n_components_)\n",
    "print('설명된 분산 비율:', np.sum(ipca.explained_variance_ratio_))"
   ]
  },
  {
   "cell_type": "markdown",
   "id": "66bd6905",
   "metadata": {},
   "source": [
    "### 5.2 선형 판별 분석을 통한 지도 방식의 데이터 압축\n",
    "\n",
    "- 선현 판별 분석(LDA) : 규제가 없는 모델에서 차원의 저주로 인한 과대 적합 정도를 줄이고 계산 효율성을 높이기 위한 특성 추출의 기법\n",
    "- PCA : 데이터 셋에 있는 분산이 최대인 직교 성분 축을 찾는다.\n",
    "- LDA : 클래스를 최적으로 구분할 수 있는 특성 부분 공간을 찾는다."
   ]
  },
  {
   "cell_type": "markdown",
   "id": "55326528",
   "metadata": {},
   "source": [
    "#### 5.2.1 주성분 분석 vs 선형 판별 분석\n",
    "\n",
    "- 모두 데이터셋의 차원 개수를 줄일 수 있는 선형 변환 기법이다.\n",
    "- PCA는 비지도 학습 알고리즘 || LDA는 지도 학습 알고리즘\n",
    "\n",
    "이진 분류 문제를 위한 LDA 개념을 요약한 사진이다.  \n",
    "클래스 1의 샘플은 동그라미, 클래스 2의 샘플은 +이다."
   ]
  },
  {
   "cell_type": "code",
   "execution_count": 25,
   "id": "73e32a6c",
   "metadata": {},
   "outputs": [
    {
     "data": {
      "text/html": [
       "<img src=\"https://git.io/Jtsv8\" width=\"400\"/>"
      ],
      "text/plain": [
       "<IPython.core.display.Image object>"
      ]
     },
     "execution_count": 25,
     "metadata": {},
     "output_type": "execute_result"
    }
   ],
   "source": [
    "Image(url='https://git.io/Jtsv8', width=400)"
   ]
  },
  {
   "cell_type": "markdown",
   "id": "92297325",
   "metadata": {},
   "source": [
    "x축으로 투영하는 선형 판별 벡터는 두개의 정규 분포 클래스를 잘 구분한다.  \n",
    "y축으로 투영하는 선형 판별 벡터는 데이터셋에 있는 분산을 많이 잡아내지만 클래스 판별 정보가 없기 때문에 좋은 선형 판별 벡터가 되지 못한다.  \n",
    "- LDA는 데이터가 정규 분포라고 가정한다.\n",
    "- 클래스가 동일한 공분산 행렬을 가지고 훈련 샘플은 서로 통계적으로 독립적이라고 가정한다.\n",
    "- 하나 이상의 가정이 조금 위반되더라도 여전히 LDA는 차원 축소를 상당히 잘 수행한다.\n"
   ]
  },
  {
   "cell_type": "markdown",
   "id": "2862026a",
   "metadata": {},
   "source": [
    "#### 5.2.2 선형 판별 분석의 내부 동작 방식\n",
    "\n",
    "##### LDA 수행에 필요한 주요 단계\n",
    "1. d차원의 데이터셋을 표준화 전처리한다.(d는 특성의 개수)\n",
    "2. 각 클래스에 대해 d차원 평균 벡터를 계산한다.\n",
    "3. 클래스 간의 산포 행렬 $S_B$와 클래스 내 산포행렬 $S_W$를 구성한다.\n",
    "4. $S_W^{-1} S_B$행렬의 고유 벡터와 고윳값을 계산한다.\n",
    "5. 고윳값을 내림차순으로 정렬하여 고유 벡터의 순서를 매긴다.\n",
    "6. 고윳값이 가장 큰 k개의 고유 벡터를 선택하여 d*k 차원의 변환 행렬 W를 구성한다. 이 행렬의 열이 고유 벡터이다.\n",
    "7. 변환 행렬 W를 사용하여 샘플을 새로운 특성 부분 공간으로 투영한다.\n",
    "  \n",
    "LDA는 행렬을 고윳값과 고유 벡터로 분해하여 새로운 저차원 특성 공간을 구성한다는 점에서 PCA와 유사하다.  \n",
    "하지만, LDA는 단계 2에서 계산하는 평균 벡터를 만드는 데 클래스 레이블 정보를 사용한다."
   ]
  },
  {
   "cell_type": "markdown",
   "id": "7e076c47",
   "metadata": {},
   "source": [
    "#### 5.2.3 산포 행렬 계산\n",
    "평균 벡터를 사용하여 클래스 간의 산포 행렬과 클래스 내 산포 행렬을 구성한다.  \n",
    "평균 벡터 $m_i$는 클래스 i의 샘플에 대한 특성의 평균값 $\\mu_m$을 저장한다.  \n",
    "$m_i = $${1}\\over {n_i}$$ \\sum_{x\\in D_i} x_m$"
   ]
  },
  {
   "cell_type": "code",
   "execution_count": 26,
   "id": "861e7992",
   "metadata": {},
   "outputs": [
    {
     "name": "stdout",
     "output_type": "stream",
     "text": [
      "MV 1: [ 0.9066 -0.3497  0.3201 -0.7189  0.5056  0.8807  0.9589 -0.5516  0.5416\n",
      "  0.2338  0.5897  0.6563  1.2075]\n",
      "\n",
      "MV 2: [-0.8749 -0.2848 -0.3735  0.3157 -0.3848 -0.0433  0.0635 -0.0946  0.0703\n",
      " -0.8286  0.3144  0.3608 -0.7253]\n",
      "\n",
      "MV 3: [ 0.1992  0.866   0.1682  0.4148 -0.0451 -1.0286 -1.2876  0.8287 -0.7795\n",
      "  0.9649 -1.209  -1.3622 -0.4013]\n",
      "\n"
     ]
    }
   ],
   "source": [
    "np.set_printoptions(precision=4)\n",
    "\n",
    "mean_vecs = []\n",
    "for label in range(1, 4):\n",
    "    mean_vecs.append(np.mean(X_train_std[y_train == label], axis=0))\n",
    "    print('MV %s: %s\\n' % (label, mean_vecs[label - 1]))"
   ]
  },
  {
   "cell_type": "markdown",
   "id": "93b67198",
   "metadata": {},
   "source": [
    "평균 벡터를 사용하여 클래스 내 산포 행렬 $S_W$를 계산할 수 있다.  \n",
    "$S_W = \\sum^c_{i=1}S_i$  \n",
    "이 행렬을 개별 클래스 i의 산포 행렬 $S_i$를 더해서 구한다.  \n",
    "$S_i = \\sum_{x\\in D_i}(x-m_i)^T(x-m_i)$"
   ]
  },
  {
   "cell_type": "code",
   "execution_count": 27,
   "id": "353bade3",
   "metadata": {},
   "outputs": [
    {
     "name": "stdout",
     "output_type": "stream",
     "text": [
      "클래스 내의 산포 행렬: 13x13\n"
     ]
    }
   ],
   "source": [
    "d = 13 # 특성의 수\n",
    "S_W = np.zeros((d, d))\n",
    "for label, mv in zip(range(1, 4), mean_vecs):\n",
    "    class_scatter = np.zeros((d, d))  # 각 클래스에 대한 산포 행렬\n",
    "    for row in X_train_std[y_train == label]:\n",
    "        row, mv = row.reshape(d, 1), mv.reshape(d, 1)  # 열 벡터를 만듭니다\n",
    "        class_scatter += (row - mv).dot((row - mv).T)\n",
    "    S_W += class_scatter                          # 클래스 산포 행렬을 더합니다\n",
    "\n",
    "print('클래스 내의 산포 행렬: %sx%s' % (S_W.shape[0], S_W.shape[1]))"
   ]
  },
  {
   "cell_type": "code",
   "execution_count": 28,
   "id": "884e570a",
   "metadata": {},
   "outputs": [
    {
     "name": "stdout",
     "output_type": "stream",
     "text": [
      "클래스 레이블 분포: [41 50 33]\n"
     ]
    }
   ],
   "source": [
    "# 산포 행렬을 계산할 때 훈련 데이터셋의 클래스 레이블이 균등하게 분포되어 있다고 가정한다.\n",
    "# 클래스 레이블의 개수를 출력해보자.\n",
    "print(\"클래스 레이블 분포: %s\"\n",
    "     % np.bincount(y_train)[1:])"
   ]
  },
  {
   "cell_type": "markdown",
   "id": "c8da937a",
   "metadata": {},
   "source": [
    "개별 산포 행렬 $S_i를 산포 행렬 S_W$로 모두 더하기 전에 스케일을 조정해야 한다.  \n",
    "산포 행렬을 클래스 샘플 개수 $n_i$로 나누면 사실 산포 행렬을 계산하는 것이 공분산 행렬 $\\sum_i$를 계산하는 것과 같다.  \n",
    "즉, 공분산 행렬을 산포 행렬의 정규화이다.  \n",
    "$\\sum_i = $$1\\over{n_i}$$S_i = $$1\\over{n_i}$$\\sum_{x\\in D_i}(x-m_i)^T(x-m_i)$  "
   ]
  },
  {
   "cell_type": "code",
   "execution_count": 29,
   "id": "1712e48e",
   "metadata": {},
   "outputs": [
    {
     "name": "stdout",
     "output_type": "stream",
     "text": [
      "스케일 조정된 클래스 내의 산포 행렬: 13x13\n"
     ]
    }
   ],
   "source": [
    "d = 13  # 특성의 수\n",
    "S_W = np.zeros((d, d))\n",
    "for label, mv in zip(range(1, 4), mean_vecs):\n",
    "    class_scatter = np.cov(X_train_std[y_train == label].T)\n",
    "    S_W += class_scatter\n",
    "print('스케일 조정된 클래스 내의 산포 행렬: %sx%s' % \n",
    "      (S_W.shape[0], S_W.shape[1]))"
   ]
  },
  {
   "cell_type": "markdown",
   "id": "8141ed07",
   "metadata": {},
   "source": [
    "클래스 내 산포 행렬을 계산한 후 다음 단계로 넘어가 클래스 간의 산포 행렬 $S_B$를 계산하겠습니다.  \n",
    "$S_B = \\sum^c_{i=1}n_i(m_i-m)^T(m_i-m)$  \n",
    "m은 모든 클래스의 샘플을 포함하여 계산된 전체 평균"
   ]
  },
  {
   "cell_type": "code",
   "execution_count": 30,
   "id": "67d92e3b",
   "metadata": {},
   "outputs": [
    {
     "name": "stdout",
     "output_type": "stream",
     "text": [
      "클래스 간의 산포 행렬: 13x13\n"
     ]
    }
   ],
   "source": [
    "# m\n",
    "mean_overall = np.mean(X_train_std, axis=0)\n",
    "mean_overall = mean_overall.reshape(d, 1)  # 열 벡터로 만들기\n",
    "d = 13  # 특성 개수\n",
    "S_B = np.zeros((d, d))\n",
    "for i, mean_vec in enumerate(mean_vecs):\n",
    "    n = X_train_std[y_train == i + 1, :].shape[0]\n",
    "    mean_vec = mean_vec.reshape(d, 1)  # 열 벡터로 만들기\n",
    "    S_B += n * (mean_vec - mean_overall).dot((mean_vec - mean_overall).T)\n",
    "\n",
    "print('클래스 간의 산포 행렬: %sx%s' % (S_B.shape[0], S_B.shape[1]))"
   ]
  },
  {
   "cell_type": "markdown",
   "id": "09020946",
   "metadata": {},
   "source": [
    "#### 5.2.4 새로운 특성 부분 공간을 위해 선형 판별 벡터 선택\n",
    "- LDA의 남은 단계는 PCA와 유사하다. 공분산 행렬에 대한 고윳값 분해를 수행하는 대신 $S_W^{-1}S_B$의 고윳값을 계산한다."
   ]
  },
  {
   "cell_type": "code",
   "execution_count": 34,
   "id": "53f36df4",
   "metadata": {},
   "outputs": [],
   "source": [
    "eigen_vals, eigen_vecs = np.linalg.eig(np.linalg.inv(S_W).dot(S_B))\n",
    "# np.linalg.eigh를 이용하는 것이 더 좋다. 위 방식은 비대칭일 경우 복소수를 반환할 수 있다."
   ]
  },
  {
   "cell_type": "code",
   "execution_count": 33,
   "id": "3efb6ed8",
   "metadata": {},
   "outputs": [
    {
     "name": "stdout",
     "output_type": "stream",
     "text": [
      "내림차순의 고윳값:\n",
      "\n",
      "349.617808905994\n",
      "172.76152218979394\n",
      "5.684341886080802e-14\n",
      "3.63360048868007e-14\n",
      "2.9156879278165203e-14\n",
      "2.9156879278165203e-14\n",
      "1.6567701054331684e-14\n",
      "1.6567701054331684e-14\n",
      "1.6005457633433247e-14\n",
      "1.6005457633433247e-14\n",
      "1.4744591544911198e-14\n",
      "6.2713986138368715e-15\n",
      "2.0474258990949274e-15\n"
     ]
    }
   ],
   "source": [
    "# (고윳값, 고유벡터) 튜플의 리스트를 만듭니다.\n",
    "eigen_pairs = [(np.abs(eigen_vals[i]), eigen_vecs[:, i])\n",
    "               for i in range(len(eigen_vals))]\n",
    "\n",
    "# (고윳값, 고유벡터) 튜플을 큰 값에서 작은 값 순서대로 정렬합니다.\n",
    "eigen_pairs = sorted(eigen_pairs, key=lambda k: k[0], reverse=True)\n",
    "\n",
    "# 고윳값의 역순으로 올바르게 정렬되었는지 확인합니다.\n",
    "print('내림차순의 고윳값:\\n')\n",
    "for eigen_val in eigen_pairs:\n",
    "    print(eigen_val[0])"
   ]
  },
  {
   "cell_type": "markdown",
   "id": "9eed4e35",
   "metadata": {},
   "source": [
    "LDA에서 선형 판별 벡터는 최대 c-1개다. (c는 클래스 레이블의 개수)  \n",
    "클래스 내 산포 행렬 $S_B$가 랭크 1 또는 그 이하인 c개의 행렬을 합한 것이기 때문이다.   \n",
    "0이 아닌 교윳값은 두 개만 나타난다. (1,2번을 제외하곤 0으로 정확히 표현되지는 않는다.)"
   ]
  },
  {
   "cell_type": "code",
   "execution_count": 38,
   "id": "f160aad4",
   "metadata": {},
   "outputs": [
    {
     "data": {
      "image/png": "[encoded data removed]",
      "text/plain": [
       "<Figure size 432x288 with 1 Axes>"
      ]
     },
     "metadata": {
      "needs_background": "light"
     },
     "output_type": "display_data"
    }
   ],
   "source": [
    "tot = sum(eigen_vals.real)\n",
    "discr = [(i / tot) for i in sorted(eigen_vals.real, reverse=True)]\n",
    "cum_discr = np.cumsum(discr)\n",
    "\n",
    "plt.bar(range(1, 14), discr, alpha=0.5, align='center',\n",
    "        label='Individual \"discriminability\"')\n",
    "plt.step(range(1, 14), cum_discr, where='mid',\n",
    "         label='Cumulative \"discriminability\"')\n",
    "plt.ylabel('\"Discriminability\" ratio')\n",
    "plt.xlabel('Linear discriminants')\n",
    "plt.ylim([-0.1, 1.1])\n",
    "plt.legend(loc='best')\n",
    "plt.tight_layout()\n",
    "plt.show()"
   ]
  },
  {
   "cell_type": "markdown",
   "id": "7cc18c10",
   "metadata": {},
   "source": [
    "##### 두 개의 선형 판별 벡터가 Wine 데이터셋에 있는 정보 중 거의 100%를 잡아낸다.  \n",
    "두 개의 벡터를 열로 쌓아서 변환 행렬 W를 만들자."
   ]
  },
  {
   "cell_type": "code",
   "execution_count": 39,
   "id": "7a0ea3f0",
   "metadata": {},
   "outputs": [
    {
     "name": "stdout",
     "output_type": "stream",
     "text": [
      "행렬 W:\n",
      " [[-0.1481 -0.4092]\n",
      " [ 0.0908 -0.1577]\n",
      " [-0.0168 -0.3537]\n",
      " [ 0.1484  0.3223]\n",
      " [-0.0163 -0.0817]\n",
      " [ 0.1913  0.0842]\n",
      " [-0.7338  0.2823]\n",
      " [-0.075  -0.0102]\n",
      " [ 0.0018  0.0907]\n",
      " [ 0.294  -0.2152]\n",
      " [-0.0328  0.2747]\n",
      " [-0.3547 -0.0124]\n",
      " [-0.3915 -0.5958]]\n"
     ]
    }
   ],
   "source": [
    "w = np.hstack((eigen_pairs[0][1][:, np.newaxis].real,\n",
    "              eigen_pairs[1][1][:, np.newaxis].real))\n",
    "print('행렬 W:\\n', w)"
   ]
  },
  {
   "cell_type": "markdown",
   "id": "eabd7d77",
   "metadata": {},
   "source": [
    "#### 5.2.5 새로운 특성 공간으로 샘플 투영\n",
    "##### W를 훈련 데이터 셋에 곱해서 데이터를 변환한다. -> $X^{'} = XW$"
   ]
  },
  {
   "cell_type": "code",
   "execution_count": 40,
   "id": "88dd321f",
   "metadata": {},
   "outputs": [
    {
     "data": {
      "image/png": "[encoded data removed]",
      "text/plain": [
       "<Figure size 432x288 with 1 Axes>"
      ]
     },
     "metadata": {
      "needs_background": "light"
     },
     "output_type": "display_data"
    }
   ],
   "source": [
    "X_train_lda = X_train_std.dot(w)\n",
    "colors = ['r', 'b', 'g']\n",
    "markers = ['s', 'x', 'o']\n",
    "\n",
    "for l, c, m in zip(np.unique(y_train), colors, markers):\n",
    "    plt.scatter(X_train_lda[y_train == l, 0],\n",
    "                X_train_lda[y_train == l, 1] * (-1),\n",
    "                c=c, label=l, marker=m)\n",
    "\n",
    "plt.xlabel('LD 1')\n",
    "plt.ylabel('LD 2')\n",
    "plt.legend(loc='lower right')\n",
    "plt.tight_layout()\n",
    "# plt.savefig('images/05_08.png', dpi=300)\n",
    "plt.show()"
   ]
  },
  {
   "cell_type": "markdown",
   "id": "6410d3c1",
   "metadata": {},
   "source": [
    "#### 5.2.6 사이킷런의 LDA\n",
    "- 사이킷런에 구현된 LDA 클래스를 살펴보자."
   ]
  },
  {
   "cell_type": "code",
   "execution_count": 41,
   "id": "33fa1746",
   "metadata": {},
   "outputs": [],
   "source": [
    "from sklearn.discriminant_analysis import LinearDiscriminantAnalysis as LDA\n",
    "\n",
    "lda = LDA(n_components=2)\n",
    "X_train_lda = lda.fit_transform(X_train_std, y_train)"
   ]
  },
  {
   "cell_type": "code",
   "execution_count": 42,
   "id": "5ae342e0",
   "metadata": {},
   "outputs": [
    {
     "name": "stderr",
     "output_type": "stream",
     "text": [
      "/var/folders/52/6m61ph710vs5094glq5tbhwh0000gn/T/ipykernel_16037/1829650647.py:23: UserWarning: You passed a edgecolor/edgecolors ('black') for an unfilled marker ('x').  Matplotlib is ignoring the edgecolor in favor of the facecolor.  This behavior may change in the future.\n",
      "  plt.scatter(x=X[y == cl, 0],\n"
     ]
    },
    {
     "data": {
      "image/png": "[encoded data removed]",
      "text/plain": [
       "<Figure size 432x288 with 1 Axes>"
      ]
     },
     "metadata": {
      "needs_background": "light"
     },
     "output_type": "display_data"
    }
   ],
   "source": [
    "from sklearn.linear_model import LogisticRegression\n",
    "\n",
    "lr = LogisticRegression(random_state=1)\n",
    "lr = lr.fit(X_train_lda, y_train)\n",
    "\n",
    "plot_decision_regions(X_train_lda, y_train, classifier=lr)\n",
    "plt.xlabel('LD 1')\n",
    "plt.ylabel('LD 2')\n",
    "plt.legend(loc='lower left')\n",
    "plt.tight_layout()\n",
    "plt.show()"
   ]
  },
  {
   "cell_type": "code",
   "execution_count": 43,
   "id": "6ae07179",
   "metadata": {},
   "outputs": [
    {
     "name": "stderr",
     "output_type": "stream",
     "text": [
      "/var/folders/52/6m61ph710vs5094glq5tbhwh0000gn/T/ipykernel_16037/1829650647.py:23: UserWarning: You passed a edgecolor/edgecolors ('black') for an unfilled marker ('x').  Matplotlib is ignoring the edgecolor in favor of the facecolor.  This behavior may change in the future.\n",
      "  plt.scatter(x=X[y == cl, 0],\n"
     ]
    },
    {
     "data": {
      "image/png": "[encoded data removed]",
      "text/plain": [
       "<Figure size 432x288 with 1 Axes>"
      ]
     },
     "metadata": {
      "needs_background": "light"
     },
     "output_type": "display_data"
    }
   ],
   "source": [
    "X_test_lda = lda.transform(X_test_std)\n",
    "\n",
    "plot_decision_regions(X_test_lda, y_test, classifier=lr)\n",
    "plt.xlabel('LD 1')\n",
    "plt.ylabel('LD 2')\n",
    "plt.legend(loc='lower left')\n",
    "plt.tight_layout()\n",
    "# plt.savefig('images/05_10.png', dpi=300)\n",
    "plt.show()"
   ]
  },
  {
   "cell_type": "markdown",
   "id": "7fd5c386",
   "metadata": {},
   "source": [
    "#### 사이킷런의 LDA 구현\n",
    "\n",
    "###### 전체 평균과 클래스별 평균 사이의 관계 : $m = \\sum_{i=1}^c $${n_i}\\over n $$m_i$\n",
    "###### 산포 형렬 $S_w$에 적용하고 클래스별 산포 행렬 $S_i$를 클래스별 공분산 행렬 $\\sum_i$로 정의하면 $S_W = \\sum_{i=1}^c $${n_i}\\over{n}$$S_i = \\sum_{i=1}^c $${n_i}\\over{n}$$\\sum_i$ "
   ]
  },
  {
   "cell_type": "code",
   "execution_count": 44,
   "id": "b48e0aa1",
   "metadata": {},
   "outputs": [
    {
     "data": {
      "text/plain": [
       "array([0.3306, 0.4032, 0.2661])"
      ]
     },
     "execution_count": 44,
     "metadata": {},
     "output_type": "execute_result"
    }
   ],
   "source": [
    "y_uniq, y_count = np.unique(y_train, return_counts=True)\n",
    "priors = y_count / X_train_std.shape[0]\n",
    "priors"
   ]
  },
  {
   "cell_type": "code",
   "execution_count": 45,
   "id": "167b2c64",
   "metadata": {},
   "outputs": [],
   "source": [
    "s_w = np.zeros((X_train_std.shape[1], X_train_std.shape[1]))\n",
    "for i, label in enumerate(y_uniq):\n",
    "    # 1/n로 나눈 공분산 행렬을 얻기 위해 bias=True로 지정합니다.\n",
    "    s_w += priors[i] * np.cov(X_train_std[y_train == label].T, bias=True)"
   ]
  },
  {
   "cell_type": "code",
   "execution_count": 46,
   "id": "bf8b0036",
   "metadata": {},
   "outputs": [],
   "source": [
    "s_b = np.zeros((X_train_std.shape[1], X_train_std.shape[1]))\n",
    "for i, mean_vec in enumerate(mean_vecs):\n",
    "    n = X_train_std[y_train == i + 1].shape[0]\n",
    "    mean_vec = mean_vec.reshape(-1, 1)\n",
    "    s_b += priors[i] * (mean_vec - mean_overall).dot((mean_vec - mean_overall).T)"
   ]
  },
  {
   "cell_type": "code",
   "execution_count": 47,
   "id": "d3b52267",
   "metadata": {},
   "outputs": [],
   "source": [
    "import scipy\n",
    "ei_val, ei_vec = scipy.linalg.eigh(s_b, s_w)\n",
    "ei_vec = ei_vec[:, np.argsort(ei_val)[::-1]]"
   ]
  },
  {
   "cell_type": "code",
   "execution_count": 48,
   "id": "381d88a3",
   "metadata": {},
   "outputs": [
    {
     "data": {
      "text/plain": [
       "LinearDiscriminantAnalysis(solver='eigen')"
      ]
     },
     "execution_count": 48,
     "metadata": {},
     "output_type": "execute_result"
    }
   ],
   "source": [
    "lda_eigen = LDA(solver='eigen')\n",
    "lda_eigen.fit(X_train_std, y_train)"
   ]
  },
  {
   "cell_type": "code",
   "execution_count": 49,
   "id": "9056bb53",
   "metadata": {},
   "outputs": [
    {
     "data": {
      "text/plain": [
       "True"
      ]
     },
     "execution_count": 49,
     "metadata": {},
     "output_type": "execute_result"
    }
   ],
   "source": [
    "# 클래스 내의 산포 행렬은 covariance_ 속성에 저장되어 있습니다.\n",
    "np.allclose(s_w, lda_eigen.covariance_)"
   ]
  },
  {
   "cell_type": "code",
   "execution_count": 50,
   "id": "c1f6fb0b",
   "metadata": {},
   "outputs": [
    {
     "data": {
      "text/plain": [
       "True"
      ]
     },
     "execution_count": 50,
     "metadata": {},
     "output_type": "execute_result"
    }
   ],
   "source": [
    "Sb = np.cov(X_train_std.T, bias=True) - lda_eigen.covariance_\n",
    "np.allclose(Sb, s_b)"
   ]
  },
  {
   "cell_type": "code",
   "execution_count": 51,
   "id": "11191099",
   "metadata": {},
   "outputs": [
    {
     "data": {
      "text/plain": [
       "True"
      ]
     },
     "execution_count": 51,
     "metadata": {},
     "output_type": "execute_result"
    }
   ],
   "source": [
    "np.allclose(lda_eigen.scalings_[:, :2], ei_vec[:, :2])"
   ]
  },
  {
   "cell_type": "code",
   "execution_count": 52,
   "id": "b8a54bad",
   "metadata": {},
   "outputs": [
    {
     "data": {
      "text/plain": [
       "True"
      ]
     },
     "execution_count": 52,
     "metadata": {},
     "output_type": "execute_result"
    }
   ],
   "source": [
    "np.allclose(lda_eigen.transform(X_test_std), np.dot(X_test_std, ei_vec[:, :2]))"
   ]
  },
  {
   "cell_type": "markdown",
   "id": "65a762a4",
   "metadata": {},
   "source": [
    "### 5.3 커널 PCA를 사용하여 비선형 매핑\n",
    "  \n",
    "많은 머신 러닝 알고리즘은 입력 데이터가 선형적으로 구분 가능하다는 가정을 한다.  \n",
    "퍼셉트론은 수렴하기 위해 훈련 데이터가 선형적으로 완벽하게 분리 가능해야 한다고 배웠다.  \n",
    "지금까지 다루었던 다른 알고리즘들은 선형적으로 완벽하게 분리되지 못한 이유를 잡음 때문이라고 가정한다.  \n",
    "  \n",
    "그러나 실전 애플리케이션에서는 비선형 문제를 더 자주 마주친다. 이런 비 선형 문제를 다루어야 한다면 PCA와 LDA같은 차원 축소를 위한 선형 변환 기법은 최선의 선택이 아니다.  \n",
    "\n",
    "그래서 필요한 것이 PCA의 커널화 버전 또는 KPCA이다."
   ]
  },
  {
   "cell_type": "code",
   "execution_count": 53,
   "id": "d197a2d9",
   "metadata": {},
   "outputs": [
    {
     "data": {
      "text/html": [
       "<img src=\"https://git.io/JtsvB\" width=\"500\"/>"
      ],
      "text/plain": [
       "<IPython.core.display.Image object>"
      ]
     },
     "execution_count": 53,
     "metadata": {},
     "output_type": "execute_result"
    }
   ],
   "source": [
    "Image(url='https://git.io/JtsvB', width=500) "
   ]
  },
  {
   "cell_type": "markdown",
   "id": "4eb12e11",
   "metadata": {},
   "source": [
    "#### 5.3.1 커널 함수와 커널 트릭\n",
    "3장에서 커널 SVM에 관해 배운 것을 떠올려 보면 비선형 문제를 해결하기 위해 클래스가 선형으로 구분되는 새로운 고차원 특성 공간으로 투영할 수 있다.  \n",
    "k 고차원 부분 공간에 있는 샘플 $x\\in R^d$를 변환하기 위해 비선형 매핑 함수 $\\Phi$를 정의한다. $\\Phi : R^d -> R^k (k>>d)$  \n",
    "$\\Phi$함수를 d 차원의 원본 데이터셋에서 더 큰 k 차원의 특성 공간으로 매핑하기 위해 원본 특성의 비선형 조합을 만드는 함수로 생각할 수 있다.   \n",
    "\n",
    "**단점은 이 방법은 계산 비용이 비싸다는 것이다.** 여기에 커널 트릭이 등장한다.  \n",
    "커널 트릭을 사용하면 원본 특성 공간에서 두 고차원 특성 벡터의 유사도를 계산할 수 있다.  "
   ]
  },
  {
   "cell_type": "markdown",
   "id": "66b99c41",
   "metadata": {},
   "source": [
    "- 표준 PCA 방식  \n",
    "    $\\sigma_{jk} = $$1\\over n$$\\sum_{i=1}^n(x^{(i)}_j-\\mu_j)(x^{(i)}_k-\\mu_k)$  \n",
    "- 특성 평균을 0에 맞추면  \n",
    "    $\\sigma_{jk} = $$1\\over n$$\\sum_{i=1}^n x^{(i)}_j x^{(i)}_k$  \n",
    "- 두 특성 간의 공분산을 의미한다. 공분산 행렬 $\\sum$를 계산하는 일반식으로 써보자.  \n",
    "    $\\sum = $$1\\over n$$\\sum_{i=1}^n x^{(i)} x^{(i)^T}$  \n",
    "- 베른하르트 슐코프는 이 방식을 일반화 하여 $\\Phi$를 통한 비선형 특성 조합으로 원본 특성 공간의 샘플 사이의 점곱을 대체했다.  \n",
    "    $\\sum = $$1\\over n$$\\sum_{i=1}^n \\Phi(x^{(i)}) \\Phi(x^{(i)^T})$  \n",
    "    \n",
    "- 이 공분산 행렬에서 고유 벡터를 얻기 위해서는 다음 식을 풀어야한다. $\\sum v = \\lambda v$"
   ]
  },
  {
   "cell_type": "markdown",
   "id": "e1a374ab",
   "metadata": {},
   "source": [
    "#### 5.3.2 파이썬으로 커널 PCA 구현\n",
    "- 사이파이와 넘파이 헬퍼 함수를 사용하면 간단하게 구현할 수 있다."
   ]
  },
  {
   "cell_type": "code",
   "execution_count": 54,
   "id": "93ff6fd4",
   "metadata": {},
   "outputs": [],
   "source": [
    "from scipy.spatial.distance import pdist, squareform\n",
    "from scipy.linalg import eigh\n",
    "import numpy as np\n",
    "\n",
    "from distutils.version import LooseVersion as Version\n",
    "from scipy import __version__ as scipy_version\n",
    "\n",
    "# scipy 2.0.0에서 삭제될 예정이므로 대신 numpy.exp를 사용합니다.\n",
    "if scipy_version >= Version('1.4.1'):\n",
    "    from numpy import exp\n",
    "else:\n",
    "    from scipy import exp\n",
    "\n",
    "\n",
    "def rbf_kernel_pca(X, gamma, n_components):\n",
    "    \"\"\"\n",
    "    RBF 커널 PCA 구현\n",
    "\n",
    "    매개변수\n",
    "    ------------\n",
    "    X: {넘파이 ndarray}, shape = [n_samples, n_features]\n",
    "        \n",
    "    gamma: float\n",
    "      RBF 커널 튜닝 매개변수\n",
    "        \n",
    "    n_components: int\n",
    "      반환할 주성분 개수\n",
    "\n",
    "    반환값\n",
    "    ------------\n",
    "     X_pc: {넘파이 ndarray}, shape = [n_samples, k_features]\n",
    "       투영된 데이터셋\n",
    "\n",
    "    \"\"\"\n",
    "    # MxN 차원의 데이터셋에서 샘플 간의 유클리디안 거리의 제곱을 계산합니다.\n",
    "    sq_dists = pdist(X, 'sqeuclidean')\n",
    "\n",
    "    # 샘플 간의 거리를 정방 대칭 행렬로 변환합니다.\n",
    "    mat_sq_dists = squareform(sq_dists)\n",
    "\n",
    "    # 커널 행렬을 계산합니다.\n",
    "    K = exp(-gamma * mat_sq_dists)\n",
    "\n",
    "    # 커널 행렬을 중앙에 맞춥니다.\n",
    "    N = K.shape[0]\n",
    "    one_n = np.ones((N, N)) / N\n",
    "    K = K - one_n.dot(K) - K.dot(one_n) + one_n.dot(K).dot(one_n)\n",
    "\n",
    "    # 중앙에 맞춰진 커널 행렬의 고윳값과 고유벡터를 구합니다.\n",
    "    # scipy.linalg.eigh 함수는 오름차순으로 반환합니다.\n",
    "    eigvals, eigvecs = eigh(K)\n",
    "    eigvals, eigvecs = eigvals[::-1], eigvecs[:, ::-1]\n",
    "\n",
    "    # 최상위 k 개의 고유벡터를 선택합니다(결과값은 투영된 샘플입니다).\n",
    "    X_pc = np.column_stack([eigvecs[:, i]\n",
    "                            for i in range(n_components)])\n",
    "\n",
    "    return X_pc"
   ]
  },
  {
   "cell_type": "code",
   "execution_count": 55,
   "id": "da11f78d",
   "metadata": {},
   "outputs": [
    {
     "data": {
      "image/png": "[encoded data removed]",
      "text/plain": [
       "<Figure size 432x288 with 1 Axes>"
      ]
     },
     "metadata": {
      "needs_background": "light"
     },
     "output_type": "display_data"
    }
   ],
   "source": [
    "# 반달 모양 구분하기\n",
    "import matplotlib.pyplot as plt\n",
    "from sklearn.datasets import make_moons\n",
    "\n",
    "X, y = make_moons(n_samples=100, random_state=123)\n",
    "\n",
    "plt.scatter(X[y == 0, 0], X[y == 0, 1], color='red', marker='^', alpha=0.5)\n",
    "plt.scatter(X[y == 1, 0], X[y == 1, 1], color='blue', marker='o', alpha=0.5)\n",
    "\n",
    "plt.tight_layout()\n",
    "# plt.savefig('images/05_12.png', dpi=300)\n",
    "plt.show()"
   ]
  },
  {
   "cell_type": "markdown",
   "id": "2b3f100d",
   "metadata": {},
   "source": [
    "이 반달 모양 데이터셋은 선형적으로 구분되지 않는다. 우리의 목표는 커널 PCA로 반달 모양을 펼쳐서 선형 분류기에 적합한 입력 데이터셋으로 만드는 것이다."
   ]
  },
  {
   "cell_type": "code",
   "execution_count": 56,
   "id": "6cc136e3",
   "metadata": {},
   "outputs": [
    {
     "data": {
      "image/png": "[encoded data removed]",
      "text/plain": [
       "<Figure size 504x216 with 2 Axes>"
      ]
     },
     "metadata": {
      "needs_background": "light"
     },
     "output_type": "display_data"
    }
   ],
   "source": [
    "from sklearn.decomposition import PCA\n",
    "\n",
    "scikit_pca = PCA(n_components=2)\n",
    "X_spca = scikit_pca.fit_transform(X)\n",
    "\n",
    "fig, ax = plt.subplots(nrows=1, ncols=2, figsize=(7, 3))\n",
    "\n",
    "ax[0].scatter(X_spca[y == 0, 0], X_spca[y == 0, 1],\n",
    "              color='red', marker='^', alpha=0.5)\n",
    "ax[0].scatter(X_spca[y == 1, 0], X_spca[y == 1, 1],\n",
    "              color='blue', marker='o', alpha=0.5)\n",
    "\n",
    "ax[1].scatter(X_spca[y == 0, 0], np.zeros((50, 1)) + 0.02,\n",
    "              color='red', marker='^', alpha=0.5)\n",
    "ax[1].scatter(X_spca[y == 1, 0], np.zeros((50, 1)) - 0.02,\n",
    "              color='blue', marker='o', alpha=0.5)\n",
    "\n",
    "ax[0].set_xlabel('PC1')\n",
    "ax[0].set_ylabel('PC2')\n",
    "ax[1].set_ylim([-1, 1])\n",
    "ax[1].set_yticks([])\n",
    "ax[1].set_xlabel('PC1')\n",
    "\n",
    "plt.tight_layout()\n",
    "plt.show()"
   ]
  },
  {
   "cell_type": "markdown",
   "id": "ecc41f52",
   "metadata": {},
   "source": [
    "기본 PCA로 변환된 데이터셋을 선형 분류기가 잘 구분하기 힘들다."
   ]
  },
  {
   "cell_type": "code",
   "execution_count": 57,
   "id": "50f88d2d",
   "metadata": {},
   "outputs": [
    {
     "data": {
      "image/png": "[encoded data removed]",
      "text/plain": [
       "<Figure size 504x216 with 2 Axes>"
      ]
     },
     "metadata": {
      "needs_background": "light"
     },
     "output_type": "display_data"
    }
   ],
   "source": [
    "X_kpca = rbf_kernel_pca(X, gamma=15, n_components=2)\n",
    "\n",
    "fig, ax = plt.subplots(nrows=1, ncols=2, figsize=(7, 3))\n",
    "ax[0].scatter(X_kpca[y==0, 0], X_kpca[y==0, 1], \n",
    "            color='red', marker='^', alpha=0.5)\n",
    "ax[0].scatter(X_kpca[y==1, 0], X_kpca[y==1, 1],\n",
    "            color='blue', marker='o', alpha=0.5)\n",
    "\n",
    "ax[1].scatter(X_kpca[y==0, 0], np.zeros((50, 1))+0.02, \n",
    "            color='red', marker='^', alpha=0.5)\n",
    "ax[1].scatter(X_kpca[y==1, 0], np.zeros((50, 1))-0.02,\n",
    "            color='blue', marker='o', alpha=0.5)\n",
    "\n",
    "ax[0].set_xlabel('PC1')\n",
    "ax[0].set_ylabel('PC2')\n",
    "ax[1].set_ylim([-1, 1])\n",
    "ax[1].set_yticks([])\n",
    "ax[1].set_xlabel('PC1')\n",
    "\n",
    "plt.tight_layout()\n",
    "plt.show()"
   ]
  },
  {
   "cell_type": "code",
   "execution_count": 58,
   "id": "300051e0",
   "metadata": {},
   "outputs": [
    {
     "data": {
      "image/png": "[encoded data removed]",
      "text/plain": [
       "<Figure size 432x288 with 1 Axes>"
      ]
     },
     "metadata": {
      "needs_background": "light"
     },
     "output_type": "display_data"
    }
   ],
   "source": [
    "# 동심원 분리하기\n",
    "\n",
    "from sklearn.datasets import make_circles\n",
    "\n",
    "X, y = make_circles(n_samples=1000, random_state=123, noise=0.1, factor=0.2)\n",
    "\n",
    "plt.scatter(X[y == 0, 0], X[y == 0, 1], color='red', marker='^', alpha=0.5)\n",
    "plt.scatter(X[y == 1, 0], X[y == 1, 1], color='blue', marker='o', alpha=0.5)\n",
    "\n",
    "plt.tight_layout()\n",
    "plt.show()"
   ]
  },
  {
   "cell_type": "code",
   "execution_count": 59,
   "id": "e6b3a14f",
   "metadata": {},
   "outputs": [
    {
     "data": {
      "image/png": "[encoded data removed]",
      "text/plain": [
       "<Figure size 504x216 with 2 Axes>"
      ]
     },
     "metadata": {
      "needs_background": "light"
     },
     "output_type": "display_data"
    }
   ],
   "source": [
    "scikit_pca = PCA(n_components=2)\n",
    "X_spca = scikit_pca.fit_transform(X)\n",
    "\n",
    "fig, ax = plt.subplots(nrows=1, ncols=2, figsize=(7, 3))\n",
    "\n",
    "ax[0].scatter(X_spca[y == 0, 0], X_spca[y == 0, 1],\n",
    "              color='red', marker='^', alpha=0.5)\n",
    "ax[0].scatter(X_spca[y == 1, 0], X_spca[y == 1, 1],\n",
    "              color='blue', marker='o', alpha=0.5)\n",
    "\n",
    "ax[1].scatter(X_spca[y == 0, 0], np.zeros((500, 1)) + 0.02,\n",
    "              color='red', marker='^', alpha=0.5)\n",
    "ax[1].scatter(X_spca[y == 1, 0], np.zeros((500, 1)) - 0.02,\n",
    "              color='blue', marker='o', alpha=0.5)\n",
    "\n",
    "ax[0].set_xlabel('PC1')\n",
    "ax[0].set_ylabel('PC2')\n",
    "ax[1].set_ylim([-1, 1])\n",
    "ax[1].set_yticks([])\n",
    "ax[1].set_xlabel('PC1')\n",
    "\n",
    "plt.tight_layout()\n",
    "plt.show()"
   ]
  },
  {
   "cell_type": "code",
   "execution_count": 60,
   "id": "9e4aa451",
   "metadata": {},
   "outputs": [
    {
     "data": {
      "image/png": "[encoded data removed]",
      "text/plain": [
       "<Figure size 504x216 with 2 Axes>"
      ]
     },
     "metadata": {
      "needs_background": "light"
     },
     "output_type": "display_data"
    }
   ],
   "source": [
    "X_kpca = rbf_kernel_pca(X, gamma=15, n_components=2)\n",
    "\n",
    "fig, ax = plt.subplots(nrows=1, ncols=2, figsize=(7, 3))\n",
    "ax[0].scatter(X_kpca[y == 0, 0], X_kpca[y == 0, 1],\n",
    "              color='red', marker='^', alpha=0.5)\n",
    "ax[0].scatter(X_kpca[y == 1, 0], X_kpca[y == 1, 1],\n",
    "              color='blue', marker='o', alpha=0.5)\n",
    "\n",
    "ax[1].scatter(X_kpca[y == 0, 0], np.zeros((500, 1)) + 0.02,\n",
    "              color='red', marker='^', alpha=0.5)\n",
    "ax[1].scatter(X_kpca[y == 1, 0], np.zeros((500, 1)) - 0.02,\n",
    "              color='blue', marker='o', alpha=0.5)\n",
    "\n",
    "ax[0].set_xlabel('PC1')\n",
    "ax[0].set_ylabel('PC2')\n",
    "ax[1].set_ylim([-1, 1])\n",
    "ax[1].set_yticks([])\n",
    "ax[1].set_xlabel('PC1')\n",
    "\n",
    "plt.tight_layout()\n",
    "plt.show()"
   ]
  },
  {
   "cell_type": "markdown",
   "id": "b19607be",
   "metadata": {},
   "source": [
    "#### 5.3.3 새로운 데이터 포인트 투영\n",
    "- 새로운 샘플 $x^{'}$를 주성분 축에 투영하려면 다음을 계산해야한다.  \n",
    "    $\\Phi (x^{'})^T v$"
   ]
  },
  {
   "cell_type": "code",
   "execution_count": 61,
   "id": "98d53eea",
   "metadata": {},
   "outputs": [],
   "source": [
    "from scipy.spatial.distance import pdist, squareform\n",
    "from numpy import exp\n",
    "from scipy.linalg import eigh\n",
    "import numpy as np\n",
    "\n",
    "def rbf_kernel_pca(X, gamma, n_components):\n",
    "    \"\"\"\n",
    "    RBF 커널 PCA 구현\n",
    "\n",
    "    매개변수\n",
    "    ------------\n",
    "    X: {넘파이 ndarray}, shape = [n_samples, n_features]\n",
    "        \n",
    "    gamma: float\n",
    "      RBF 커널 튜닝 매개변수\n",
    "        \n",
    "    n_components: int\n",
    "      반환할 주성분 개수\n",
    "\n",
    "    Returns\n",
    "    ------------\n",
    "     alphas: {넘파이 ndarray}, shape = [n_samples, k_features]\n",
    "       투영된 데이터셋\n",
    "     \n",
    "     lambdas: list\n",
    "       고윳값\n",
    "\n",
    "    \"\"\"\n",
    "    # MxN 차원의 데이터셋에서 샘플 간의 유클리디안 거리의 제곱을 계산합니다.\n",
    "    sq_dists = pdist(X, 'sqeuclidean')\n",
    "\n",
    "    # 샘플 간의 거리를 정방 대칭 행렬로 변환합니다.\n",
    "    mat_sq_dists = squareform(sq_dists)\n",
    "\n",
    "    # 커널 행렬을 계산합니다.\n",
    "    K = exp(-gamma * mat_sq_dists)\n",
    "\n",
    "    # 커널 행렬을 중앙에 맞춥니다.\n",
    "    N = K.shape[0]\n",
    "    one_n = np.ones((N, N)) / N\n",
    "    K = K - one_n.dot(K) - K.dot(one_n) + one_n.dot(K).dot(one_n)\n",
    "\n",
    "    # 중앙에 맞춰진 커널 행렬의 고윳값과 고유 벡터를 구합니다.\n",
    "    # scipy.linalg.eigh 함수는 오름차순으로 반환합니다.\n",
    "    eigvals, eigvecs = eigh(K)\n",
    "    eigvals, eigvecs = eigvals[::-1], eigvecs[:, ::-1]\n",
    "\n",
    "    # 최상위 k 개의 고유 벡터를 선택합니다(투영 결과).\n",
    "    alphas = np.column_stack([eigvecs[:, i]\n",
    "                              for i in range(n_components)])\n",
    "\n",
    "    # 고유 벡터에 상응하는 고윳값을 선택합니다.\n",
    "    lambdas = [eigvals[i] for i in range(n_components)]\n",
    "\n",
    "    return alphas, lambdas"
   ]
  },
  {
   "cell_type": "code",
   "execution_count": 62,
   "id": "829e3fb1",
   "metadata": {},
   "outputs": [],
   "source": [
    "X, y = make_moons(n_samples=100, random_state=123)\n",
    "alphas, lambdas = rbf_kernel_pca(X, gamma=15, n_components=1)"
   ]
  },
  {
   "cell_type": "code",
   "execution_count": 63,
   "id": "6465c11c",
   "metadata": {},
   "outputs": [
    {
     "data": {
      "text/plain": [
       "array([1.8713, 0.0093])"
      ]
     },
     "execution_count": 63,
     "metadata": {},
     "output_type": "execute_result"
    }
   ],
   "source": [
    "x_new = X[25]\n",
    "x_new"
   ]
  },
  {
   "cell_type": "code",
   "execution_count": 64,
   "id": "076e241b",
   "metadata": {},
   "outputs": [
    {
     "data": {
      "text/plain": [
       "array([0.0788])"
      ]
     },
     "execution_count": 64,
     "metadata": {},
     "output_type": "execute_result"
    }
   ],
   "source": [
    "x_proj = alphas[25] # 원본 투영\n",
    "x_proj"
   ]
  },
  {
   "cell_type": "code",
   "execution_count": 65,
   "id": "f85fc830",
   "metadata": {},
   "outputs": [
    {
     "data": {
      "text/plain": [
       "array([0.0788])"
      ]
     },
     "execution_count": 65,
     "metadata": {},
     "output_type": "execute_result"
    }
   ],
   "source": [
    "def project_x(x_new, X, gamma, alphas, lambdas):\n",
    "    pair_dist = np.array([np.sum((x_new - row)**2) for row in X])\n",
    "    k = np.exp(-gamma * pair_dist)\n",
    "    return k.dot(alphas / lambdas)\n",
    "\n",
    "# 새로운 데이터포인트를 투영합니다.\n",
    "x_reproj = project_x(x_new, X, gamma=15, alphas=alphas, lambdas=lambdas)\n",
    "x_reproj "
   ]
  },
  {
   "cell_type": "code",
   "execution_count": 66,
   "id": "6677de96",
   "metadata": {},
   "outputs": [
    {
     "data": {
      "image/png": "[encoded data removed]",
      "text/plain": [
       "<Figure size 432x288 with 1 Axes>"
      ]
     },
     "metadata": {
      "needs_background": "light"
     },
     "output_type": "display_data"
    }
   ],
   "source": [
    "plt.scatter(alphas[y == 0, 0], np.zeros((50)),\n",
    "            color='red', marker='^', alpha=0.5)\n",
    "plt.scatter(alphas[y == 1, 0], np.zeros((50)),\n",
    "            color='blue', marker='o', alpha=0.5)\n",
    "plt.scatter(x_proj, 0, color='black',\n",
    "            label='Original projection of point X[25]', marker='^', s=100)\n",
    "plt.scatter(x_reproj, 0, color='green',\n",
    "            label='Remapped point X[25]', marker='x', s=500)\n",
    "plt.yticks([], [])\n",
    "plt.legend(scatterpoints=1)\n",
    "\n",
    "plt.tight_layout()\n",
    "plt.show()"
   ]
  },
  {
   "cell_type": "markdown",
   "id": "45c86854",
   "metadata": {},
   "source": [
    "#### 사이킷런의 커널 PCA\n",
    "- 사이킷런은 sklearn.decomposition 모듈 아래 커널 PCA 클래스를 구현해 놓았다.  \n",
    "- kernel 매개변수로 커널의 종류를 지정합니다.  "
   ]
  },
  {
   "cell_type": "code",
   "execution_count": 67,
   "id": "c2619df5",
   "metadata": {},
   "outputs": [
    {
     "data": {
      "image/png": "[encoded data removed]",
      "text/plain": [
       "<Figure size 432x288 with 1 Axes>"
      ]
     },
     "metadata": {
      "needs_background": "light"
     },
     "output_type": "display_data"
    }
   ],
   "source": [
    "from sklearn.decomposition import KernelPCA\n",
    "\n",
    "X, y = make_moons(n_samples=100, random_state=123)\n",
    "scikit_kpca = KernelPCA(n_components=2, kernel='rbf', gamma=15)\n",
    "X_skernpca = scikit_kpca.fit_transform(X)\n",
    "\n",
    "plt.scatter(X_skernpca[y == 0, 0], X_skernpca[y == 0, 1],\n",
    "            color='red', marker='^', alpha=0.5)\n",
    "plt.scatter(X_skernpca[y == 1, 0], X_skernpca[y == 1, 1],\n",
    "            color='blue', marker='o', alpha=0.5)\n",
    "\n",
    "plt.xlabel('PC1')\n",
    "plt.ylabel('PC2')\n",
    "plt.tight_layout()\n",
    "plt.show()"
   ]
  }
 ],
 "metadata": {
  "kernelspec": {
   "display_name": "Python 3 (ipykernel)",
   "language": "python",
   "name": "python3"
  },
  "language_info": {
   "codemirror_mode": {
    "name": "ipython",
    "version": 3
   },
   "file_extension": ".py",
   "mimetype": "text/x-python",
   "name": "python",
   "nbconvert_exporter": "python",
   "pygments_lexer": "ipython3",
   "version": "3.9.7"
  }
 },
 "nbformat": 4,
 "nbformat_minor": 5
}
