{
 "cells": [
  {
   "cell_type": "code",
   "execution_count": 1,
   "id": "fe05e019",
   "metadata": {},
   "outputs": [],
   "source": [
    "from IPython.display import Image"
   ]
  },
  {
   "cell_type": "markdown",
   "id": "33fc3985",
   "metadata": {},
   "source": [
    "# 15장 심층 합성곱 신경망으로 이미지 분류\n",
    "\n",
    "- 15.1 합성곱 신경망의 구성요소\n",
    "- 15.2 기본 구성 요소를 사용하여 심층 합성곱 신경망 구성\n",
    "- 15.3 텐서플로를 사용하여 심층 합성곱 신경망 구현\n",
    "- 15.4 합성곱 신경망을 사용하여 얼굴 이미지의 성별 분류\n",
    "- 15.5 요약\n",
    "\n"
   ]
  },
  {
   "cell_type": "markdown",
   "id": "afa0527f",
   "metadata": {},
   "source": [
    "## 15.1 합성곱 신경망의 구성요소\n",
    "CNN과 같은 종류의 신경망은 원본 데이터에서 작업에 가장 유용한 특성을 자동으로 학습할 수 있다.  \n",
    "입력층 바로 다음 층은 원본 데이터에서 저수준 특성을 추출한다. 뒤쪽의 층은 이런 특성을 사용하여 연속적인 타깃 값이나 클래스 레이블을 예측한다.  \n",
    "  \n",
    "아래 그림에서 보듯이 CNN은 입력 이미지에서 특성맵을 만든다.  "
   ]
  },
  {
   "cell_type": "code",
   "execution_count": 2,
   "id": "7339cc68",
   "metadata": {},
   "outputs": [
    {
     "data": {
      "text/html": [
       "<img src=\"https://git.io/JL5O3\" width=\"700\"/>"
      ],
      "text/plain": [
       "<IPython.core.display.Image object>"
      ]
     },
     "execution_count": 2,
     "metadata": {},
     "output_type": "execute_result"
    }
   ],
   "source": [
    "Image(url='https://git.io/JL5O3', width=700)"
   ]
  },
  {
   "cell_type": "markdown",
   "id": "bc064d94",
   "metadata": {},
   "source": [
    "CNN은 일반적으로 이미지 관련 작업을 매우 잘 수행한다.  \n",
    "- **희소 연결**: 특성 맵에 있는 하나의 원소는 작은 픽셀 패치 하나에만 연결된다.\n",
    "- **파라미터 공유**: 동일한 가중치가 입력 이미지의 모든 패치에 사용된다.  \n"
   ]
  },
  {
   "cell_type": "markdown",
   "id": "dea38fbf",
   "metadata": {},
   "source": [
    "CNN은 여러 개의 **합성곱**층과 **풀링**이라고도 불리는 서브 샘플링 층으로 이루어져 있다. 그리고 마지막으로는 완전 연결층이 따라온다.  \n"
   ]
  },
  {
   "cell_type": "markdown",
   "id": "f668b936",
   "metadata": {},
   "source": [
    "### 15.1.2 이산 합성곱 수행\n",
    "x의 인덱스를 늘리는 과정을 패딩이라한다."
   ]
  },
  {
   "cell_type": "markdown",
   "id": "fbb7188e",
   "metadata": {},
   "source": [
    "1차원 패딩의 예시"
   ]
  },
  {
   "cell_type": "code",
   "execution_count": 3,
   "id": "50cf78d0",
   "metadata": {},
   "outputs": [
    {
     "data": {
      "text/html": [
       "<img src=\"https://git.io/JL5On\" width=\"700\"/>"
      ],
      "text/plain": [
       "<IPython.core.display.Image object>"
      ]
     },
     "execution_count": 3,
     "metadata": {},
     "output_type": "execute_result"
    }
   ],
   "source": [
    "Image(url='https://git.io/JL5On', width=700)"
   ]
  },
  {
   "cell_type": "markdown",
   "id": "7054d904",
   "metadata": {},
   "source": [
    "- 패딩 크기(p): 각 방향으로 추가된 패딩의 개수를 의미한다.  \n",
    "- 스트라이드 : 필터가 곱해지면서 이동되는 크기이다.  \n"
   ]
  },
  {
   "cell_type": "code",
   "execution_count": 4,
   "id": "1b8f4c95",
   "metadata": {},
   "outputs": [
    {
     "data": {
      "text/html": [
       "<img src=\"https://git.io/JL5Ow\" width=\"700\"/>"
      ],
      "text/plain": [
       "<IPython.core.display.Image object>"
      ]
     },
     "execution_count": 4,
     "metadata": {},
     "output_type": "execute_result"
    }
   ],
   "source": [
    "Image(url='https://git.io/JL5Ow', width=700)"
   ]
  },
  {
   "cell_type": "markdown",
   "id": "c08544df",
   "metadata": {},
   "source": [
    "- 풀 패딩 : 패딩 파라미터 p를 p=m-1로 설정한다. 풀 패딩은 출력 크기를 증가시키기 때문에 합성곱 신경망 구조에서는 거의 사용되지 않는다.  \n",
    "- 세임 패딩 : 출력 크기가 입력 벡터 x와 같아야할 때 사용한다. 이때 패딩 파라미터 p는 입력과 출력 크기가 동일해야 하기 때문에 필터 크기에 따라 결정된다.\n",
    "- 밸리드 패딩 : p=0인 경우를 말한다."
   ]
  },
  {
   "cell_type": "markdown",
   "id": "72dbfd5d",
   "metadata": {},
   "source": [
    "#### 합성곱 출력 크기 계산\n",
    "$o = \\lfloor \\frac{n+2p-m}{s}\\rfloor +1$"
   ]
  },
  {
   "cell_type": "markdown",
   "id": "1a1efce5",
   "metadata": {},
   "source": [
    "### 15.1.3 서브샘플링\n",
    "서브샘플링은 전형적인 두 종류의 풀링 연산으로 합성곱 신경망에 적용된다.  \n",
    "**최대 풀링**과**평균 풀링**이다. "
   ]
  },
  {
   "cell_type": "code",
   "execution_count": 5,
   "id": "6619c8cb",
   "metadata": {},
   "outputs": [
    {
     "data": {
      "text/html": [
       "<img src=\"https://git.io/JL5OH\" width=\"700\"/>"
      ],
      "text/plain": [
       "<IPython.core.display.Image object>"
      ]
     },
     "execution_count": 5,
     "metadata": {},
     "output_type": "execute_result"
    }
   ],
   "source": [
    "Image(url='https://git.io/JL5OH', width=700)"
   ]
  },
  {
   "cell_type": "markdown",
   "id": "bc3ec662",
   "metadata": {},
   "source": [
    "## 15.2 기본 구성 요소를 사용하여 심층 합성곱 신경망 구성\n"
   ]
  },
  {
   "cell_type": "markdown",
   "id": "d2ad3b29",
   "metadata": {},
   "source": [
    "### 15.2.1 여러 개의 입력 또는 컬러 채널 다루기"
   ]
  },
  {
   "cell_type": "code",
   "execution_count": 6,
   "id": "5f3a5cf9",
   "metadata": {
    "scrolled": true
   },
   "outputs": [
    {
     "data": {
      "text/html": [
       "<img src=\"https://git.io/JL5O5\" width=\"800\"/>"
      ],
      "text/plain": [
       "<IPython.core.display.Image object>"
      ]
     },
     "execution_count": 6,
     "metadata": {},
     "output_type": "execute_result"
    }
   ],
   "source": [
    "Image(url='https://git.io/JL5O5', width=800)"
   ]
  },
  {
   "cell_type": "markdown",
   "id": "3a064f56",
   "metadata": {},
   "source": [
    "### 15.2.2 드롭아웃으로 신경망 규제\n",
    "파라미터의 개수가 적을 경우 과소적합되기 쉽다.  \n",
    "파라미터의 개수가 많은 큰 네트워크는 과대적합될 가능성이 많다.  \n",
    "최근에는 **드롭아웃**방법이 인기가 많다."
   ]
  },
  {
   "cell_type": "code",
   "execution_count": 8,
   "id": "a5520e13",
   "metadata": {},
   "outputs": [
    {
     "data": {
      "text/html": [
       "<img src=\"https://git.io/JL5Oh\" width=\"700\"/>"
      ],
      "text/plain": [
       "<IPython.core.display.Image object>"
      ]
     },
     "execution_count": 8,
     "metadata": {},
     "output_type": "execute_result"
    }
   ],
   "source": [
    "Image(url='https://git.io/JL5Oh', width=700)"
   ]
  },
  {
   "cell_type": "markdown",
   "id": "4bdf2d18",
   "metadata": {},
   "source": [
    "### 15.2.3 분류를 위한 손실 함수"
   ]
  },
  {
   "cell_type": "code",
   "execution_count": 7,
   "id": "1a6096b8",
   "metadata": {},
   "outputs": [
    {
     "data": {
      "text/html": [
       "<img src=\"https://git.io/JL53f\" width=\"800\"/>"
      ],
      "text/plain": [
       "<IPython.core.display.Image object>"
      ]
     },
     "execution_count": 7,
     "metadata": {},
     "output_type": "execute_result"
    }
   ],
   "source": [
    "Image(url='https://git.io/JL53f', width=800)"
   ]
  }
 ],
 "metadata": {
  "kernelspec": {
   "display_name": "Python 3 (ipykernel)",
   "language": "python",
   "name": "python3"
  },
  "language_info": {
   "codemirror_mode": {
    "name": "ipython",
    "version": 3
   },
   "file_extension": ".py",
   "mimetype": "text/x-python",
   "name": "python",
   "nbconvert_exporter": "python",
   "pygments_lexer": "ipython3",
   "version": "3.9.7"
  }
 },
 "nbformat": 4,
 "nbformat_minor": 5
}
