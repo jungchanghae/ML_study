{
 "cells": [
  {
   "cell_type": "code",
   "execution_count": 6,
   "metadata": {},
   "outputs": [],
   "source": [
    "import requests\n",
    "from bs4 import BeautifulSoup\n",
    "import pandas as pd"
   ]
  },
  {
   "cell_type": "code",
   "execution_count": 7,
   "metadata": {},
   "outputs": [],
   "source": [
    "# 강소api\n",
    "def parse_g():\n",
    "    try:\n",
    "        선정연도 = item.find(\"selYear\").get_text()\n",
    "        강소기업브랜드명 = item.find(\"sgBrandNm\").get_text()\n",
    "        기업명 = item.find(\"coNm\").get_text()\n",
    "        사업자등록번호 = item.find(\"busiNo\").get_text()\n",
    "        업종코드_상 = item.find(\"superIndTpCd\").get_text()\n",
    "        업종명_상 = item.find(\"superIndTpNm\").get_text()\n",
    "        업종코드_중 = item.find(\"indTpCd\").get_text()\n",
    "        업종명_중 = item.find(\"indTpNm\").get_text()\n",
    "        지역코드 = item.find(\"regionCd\").get_text()\n",
    "        지역명 = item.find(\"regionNm\").get_text()\n",
    "        주소 = item.find(\"coAddr\").get_text()\n",
    "        주요생산품목 = item.find(\"coMainProd\").get_text()\n",
    "        회사홈페이지 = item.find(\"coHomePage\").get_text()\n",
    "        상시근로자수 = item.find(\"alwaysWorkerCnt\").get_text()\n",
    "        return{\n",
    "                \"선정연도\" :선정연도,\n",
    "                \"강소기업브랜드명\" :강소기업브랜드명,\n",
    "                \"기업명\" :기업명,\n",
    "                \"사업자등록번호\" :사업자등록번호,\n",
    "                \"업종코드_상\" :업종코드_상,\n",
    "                \"업종명_상\" :업종명_상,\n",
    "                \"업종코드_중\" :업종코드_중,\n",
    "                \"업종명_중\" :업종명_중,\n",
    "                \"지역코드\" :지역코드,\n",
    "                \"지역명\" :지역명,\n",
    "                \"주소\" :주소,\n",
    "                \"주요생산품목\" :주요생산품목,\n",
    "                \"회사홈페이지\" :회사홈페이지,\n",
    "                \"상시근로자수\" :상시근로자수,\n",
    "        }\n",
    "    except AttributeError as e:\n",
    "        return{\n",
    "            '선정연도' :None,\n",
    "            '강소기업브랜드명' :None,\n",
    "            '기업명' :None,\n",
    "            '사업자등록번호' :None,\n",
    "            '업종코드_중' :None,\n",
    "            '업종명_중' :None,\n",
    "            '업종코드_중' :None,\n",
    "            '업종명_중' :None,\n",
    "            '지역코드' :None,\n",
    "            '지역명' :None,\n",
    "            '주소' :None,\n",
    "            '주요생산품목' :None,\n",
    "            '회사홈페이지' :None,\n",
    "            '상시근로자수' :None,\n",
    "        }"
   ]
  },
  {
   "cell_type": "code",
   "execution_count": 8,
   "metadata": {},
   "outputs": [],
   "source": [
    "# 강소api\n",
    "url = \"http://openapi.work.go.kr/opi/smallGiants/smallGiants.do\"\n",
    "params ={'authKey' : 'WNKY7XR5WCOU4S7AVTR712VR1HJ','returnType': 'XML'}\n",
    "\n",
    "row=[]\n",
    "result = requests.get(url, params=params)\n",
    "soup = BeautifulSoup(result.text, 'lxml-xml')\n",
    "smallGiantsList = soup.find_all(\"smallGiantsList\")\n",
    "items = smallGiantsList[0].find_all('smallGiant')\n",
    "\n",
    "for item in items:\n",
    "    row.append(parse_g())"
   ]
  },
  {
   "cell_type": "code",
   "execution_count": 11,
   "metadata": {},
   "outputs": [],
   "source": [
    "df = pd.DataFrame(row)\n",
    "df.to_csv(\"강소 기업 API.csv\",encoding='utf-8')"
   ]
  },
  {
   "cell_type": "code",
   "execution_count": 12,
   "metadata": {
    "scrolled": true
   },
   "outputs": [
    {
     "data": {
      "text/plain": [
       "선정연도        92\n",
       "강소기업브랜드명    92\n",
       "기업명         92\n",
       "사업자등록번호     92\n",
       "업종코드_상      92\n",
       "업종명_상       92\n",
       "업종코드_중      92\n",
       "업종명_중       92\n",
       "지역코드        92\n",
       "지역명         92\n",
       "주소          92\n",
       "주요생산품목      92\n",
       "회사홈페이지      92\n",
       "상시근로자수      92\n",
       "dtype: int64"
      ]
     },
     "execution_count": 12,
     "metadata": {},
     "output_type": "execute_result"
    }
   ],
   "source": [
    "df.isnull().sum()"
   ]
  },
  {
   "cell_type": "code",
   "execution_count": null,
   "metadata": {},
   "outputs": [],
   "source": []
  }
 ],
 "metadata": {
  "kernelspec": {
   "display_name": "Python 3 (ipykernel)",
   "language": "python",
   "name": "python3"
  },
  "language_info": {
   "codemirror_mode": {
    "name": "ipython",
    "version": 3
   },
   "file_extension": ".py",
   "mimetype": "text/x-python",
   "name": "python",
   "nbconvert_exporter": "python",
   "pygments_lexer": "ipython3",
   "version": "3.8.12"
  }
 },
 "nbformat": 4,
 "nbformat_minor": 4
}
